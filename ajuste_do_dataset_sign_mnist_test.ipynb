{
  "nbformat": 4,
  "nbformat_minor": 0,
  "metadata": {
    "colab": {
      "name": "ajuste do dataset sign mnist test.ipynb",
      "provenance": [],
      "authorship_tag": "ABX9TyOdkrlh2Qryit6jg4xTrOaR",
      "include_colab_link": true
    },
    "kernelspec": {
      "name": "python3",
      "display_name": "Python 3"
    },
    "language_info": {
      "name": "python"
    }
  },
  "cells": [
    {
      "cell_type": "markdown",
      "metadata": {
        "id": "view-in-github",
        "colab_type": "text"
      },
      "source": [
        "<a href=\"https://colab.research.google.com/github/RonaldoSouzaEngComp/deep-learning-para-o-reconhecimento-da-linguagem-de-sinais-python/blob/main/ajuste_do_dataset_sign_mnist_test.ipynb\" target=\"_parent\"><img src=\"https://colab.research.google.com/assets/colab-badge.svg\" alt=\"Open In Colab\"/></a>"
      ]
    },
    {
      "cell_type": "markdown",
      "metadata": {
        "id": "1LwPvaVrV3Wl"
      },
      "source": [
        "CARREGA O DATASET "
      ]
    },
    {
      "cell_type": "code",
      "metadata": {
        "id": "TWv98y2_Uzdw",
        "colab": {
          "base_uri": "https://localhost:8080/"
        },
        "outputId": "3052ef12-4c36-43b8-85c7-603a9d9bf080"
      },
      "source": [
        "import pandas as pd\n",
        "\n",
        "dados_teste = pd.read_csv('sign_mnist_test.csv')\n",
        "dados_train = pd.read_csv('sign_mnist_train.csv')\n",
        "\n",
        "#print(dados_teste)\n",
        "#print(dados_train)\n",
        "\n",
        "indice_letras_teste = sorted(dados_teste['label'].unique()) \n",
        "print(\"Indice das Letras Teste: \", indice_letras_teste)\n",
        "\n",
        "indice_letras_train = sorted(dados_train['label'].unique()) \n",
        "print(\"Indice das Letras Train: \", indice_letras_train)"
      ],
      "execution_count": 1,
      "outputs": [
        {
          "output_type": "stream",
          "text": [
            "Indice das Letras Teste:  [0, 1, 2, 3, 4, 5, 6, 7, 8, 10, 11, 12, 13, 14, 15, 16, 17, 18, 19, 20, 21, 22, 23, 24]\n",
            "Indice das Letras Train:  [0, 1, 2, 3, 4, 5, 6, 7, 8, 10, 11, 12, 13, 14, 15, 16, 17, 18, 19, 20, 21, 22, 23, 24]\n"
          ],
          "name": "stdout"
        }
      ]
    },
    {
      "cell_type": "markdown",
      "metadata": {
        "id": "3i894sDIV_FQ"
      },
      "source": [
        "CORRIGE OS DADOS"
      ]
    },
    {
      "cell_type": "code",
      "metadata": {
        "id": "QQEtfT0OVu3k"
      },
      "source": [
        "a = dados_teste['label']\n",
        "b = dados_train['label']\n",
        "\n",
        "quantidade_A = len(a)\n",
        "quantidade_B = len(b)\n",
        "\n",
        "for j in range(10,25):\n",
        "    for i in range(quantidade_A):\n",
        "        #print(\"-----------------------\")\n",
        "        #print(\"Original - a.iloc[i]\", a.iloc[i])\n",
        "        if a.iloc[i] == j:\n",
        "            #print(\"VALOR PROCURADO EM A:\", j)\n",
        "            #print(\"Original - a.iloc[i]\", a.iloc[i])\n",
        "            a.iloc[i] = j-1\n",
        "            #print(\"Alterado - a.iloc[i]\", a.iloc[i])\n",
        "            \n",
        "for j in range(10,25):\n",
        "    for i in range(quantidade_B):\n",
        "        #print(\"-----------------------\")\n",
        "        #print(\"Original - a.iloc[i]\", a.iloc[i])\n",
        "        if b.iloc[i] == j:\n",
        "            #print(\"VALOR PROCURADO EM B:\", j)\n",
        "            #print(\"Original - b.iloc[i]\", b.iloc[i])\n",
        "            b.iloc[i] = j-1\n",
        "            #print(\"Alterado - b.iloc[i]\", b.iloc[i])\n",
        "            "
      ],
      "execution_count": 2,
      "outputs": []
    },
    {
      "cell_type": "code",
      "metadata": {
        "colab": {
          "base_uri": "https://localhost:8080/"
        },
        "id": "uSupf-nc0Nzn",
        "outputId": "645a7149-201c-45df-cd6b-59580b156092"
      },
      "source": [
        "indice_letras = sorted(dados_teste['label'].unique()) \n",
        "print(\"Indice das Letras Teste: \", indice_letras)\n",
        "\n",
        "indice_letras_train = sorted(dados_train['label'].unique()) \n",
        "print(\"Indice das Letras Train: \", indice_letras_train)"
      ],
      "execution_count": 3,
      "outputs": [
        {
          "output_type": "stream",
          "text": [
            "Indice das Letras Teste:  [0, 1, 2, 3, 4, 5, 6, 7, 8, 9, 10, 11, 12, 13, 14, 15, 16, 17, 18, 19, 20, 21, 22, 23]\n",
            "Indice das Letras Train:  [0, 1, 2, 3, 4, 5, 6, 7, 8, 9, 10, 11, 12, 13, 14, 15, 16, 17, 18, 19, 20, 21, 22, 23]\n"
          ],
          "name": "stdout"
        }
      ]
    },
    {
      "cell_type": "markdown",
      "metadata": {
        "id": "xPMepd8iWCLj"
      },
      "source": [
        "SALVA UM NOVO ARQUIVOS COM OS DADOS CORRETOS"
      ]
    },
    {
      "cell_type": "code",
      "metadata": {
        "id": "_aIfm_ONV2dA"
      },
      "source": [
        "dados_teste.to_csv('sign_mnist_test_alterado.csv', index = False)\n",
        "dados_train.to_csv('sign_mnist_train_alterado.csv', index = False)"
      ],
      "execution_count": 4,
      "outputs": []
    }
  ]
}